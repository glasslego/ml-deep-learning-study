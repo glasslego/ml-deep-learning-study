{
 "cells": [
  {
   "cell_type": "code",
   "execution_count": null,
   "id": "initial_id",
   "metadata": {
    "ExecuteTime": {
     "end_time": "2025-10-04T14:06:26.132717Z",
     "start_time": "2025-10-04T14:06:26.119165Z"
    },
    "collapsed": true
   },
   "outputs": [],
   "source": [
    "# 필요한 라이브러리 임포트\n",
    "import pandas as pd  # 데이터 프레임 조작을 위한 pandas\n",
    "\n",
    "# 머신러닝 관련 라이브러리들\n",
    "from sklearn.model_selection import train_test_split  # 훈련/테스트 데이터 분할\n",
    "from sklearn.preprocessing import StandardScaler  # 데이터 표준화\n",
    "from sklearn.neighbors import KNeighborsClassifier  # K-최근접 이웃 분류기\n",
    "from sklearn.metrics import confusion_matrix  # 혼동 행렬\n",
    "from sklearn.metrics import accuracy_score  # 정확도 계산\n",
    "\n",
    "# 당뇨병 데이터셋 로드\n",
    "df = pd.read_csv(\"dataset/diabetes.csv\")\n",
    "\n",
    "# 데이터의 처음 3개 행을 출력하여 구조 확인\n",
    "df.head(3)"
   ]
  },
  {
   "cell_type": "code",
   "execution_count": null,
   "id": "c86159dc2e873c00",
   "metadata": {
    "ExecuteTime": {
     "end_time": "2025-10-04T14:06:37.105299Z",
     "start_time": "2025-10-04T14:06:37.090067Z"
    }
   },
   "outputs": [],
   "source": [
    "# 데이터셋의 기본 정보 확인\n",
    "# - 총 데이터 개수, 컬럼별 데이터 타입, 메모리 사용량 등을 출력\n",
    "df.info()"
   ]
  },
  {
   "cell_type": "code",
   "execution_count": null,
   "id": "83bb99eadf07b2d8",
   "metadata": {
    "ExecuteTime": {
     "end_time": "2025-10-04T14:06:46.048662Z",
     "start_time": "2025-10-04T14:06:46.045987Z"
    }
   },
   "outputs": [],
   "source": [
    "# 데이터셋의 크기 확인 (행의 수, 열의 수)\n",
    "# 768개의 샘플과 9개의 특성(8개 입력 + 1개 출력)을 가지고 있음\n",
    "df.shape"
   ]
  },
  {
   "cell_type": "code",
   "execution_count": null,
   "id": "2e410499f1d4fc10",
   "metadata": {
    "ExecuteTime": {
     "end_time": "2025-10-04T14:06:53.511116Z",
     "start_time": "2025-10-04T14:06:53.507663Z"
    }
   },
   "outputs": [],
   "source": [
    "# 각 컬럼별 결측값(null/NaN) 개수 확인\n",
    "# 모든 컬럼에서 결측값이 0개로, 완전한 데이터셋임을 확인\n",
    "df.isna().sum()"
   ]
  },
  {
   "cell_type": "code",
   "execution_count": null,
   "id": "1c089650053fb793",
   "metadata": {
    "ExecuteTime": {
     "end_time": "2025-10-04T14:07:02.631104Z",
     "start_time": "2025-10-04T14:07:02.628517Z"
    }
   },
   "outputs": [],
   "source": [
    "# Insulin 컬럼의 모든 값들의 합계 계산\n",
    "# 인슐린 수치의 전체 합계를 확인하여 데이터의 분포를 파악\n",
    "df.Insulin.sum()"
   ]
  },
  {
   "cell_type": "code",
   "execution_count": null,
   "id": "16c57a64a47bf30f",
   "metadata": {
    "ExecuteTime": {
     "end_time": "2025-10-04T14:07:29.399278Z",
     "start_time": "2025-10-04T14:07:29.395888Z"
    }
   },
   "outputs": [],
   "source": [
    "# Insulin 컬럼의 모든 값들을 출력\n",
    "# 많은 0값들이 포함되어 있음을 확인할 수 있음 (실제로는 측정되지 않은 값일 가능성)\n",
    "df.Insulin"
   ]
  },
  {
   "cell_type": "code",
   "execution_count": null,
   "id": "caea68dc2ff16946",
   "metadata": {
    "ExecuteTime": {
     "end_time": "2025-10-04T14:07:59.154062Z",
     "start_time": "2025-10-04T14:07:58.596231Z"
    }
   },
   "outputs": [],
   "source": [
    "# 데이터 시각화를 위한 히스토그램 생성\n",
    "w = 5  # 막대 너비 설정\n",
    "\n",
    "# 모든 컬럼에 대한 히스토그램을 한번에 출력\n",
    "# - bins=10: 각 히스토그램을 10개 구간으로 나눔\n",
    "# - figsize=(12,9): 그래프 크기 설정\n",
    "# - color='green': 막대 색상을 녹색으로 설정\n",
    "# - alpha=0.6: 투명도 설정 (0=완전투명, 1=완전불투명)\n",
    "# - hatch='X': 막대에 X 패턴 추가\n",
    "# - rwidth=w: 막대의 상대적 너비 설정\n",
    "df.hist(bins=10, figsize=(12, 9), color=\"green\", alpha=0.6, hatch=\"X\", rwidth=w);"
   ]
  },
  {
   "cell_type": "code",
   "execution_count": null,
   "id": "dbac9aedd239fcaa",
   "metadata": {
    "ExecuteTime": {
     "end_time": "2025-10-04T14:08:09.099180Z",
     "start_time": "2025-10-04T14:08:09.093272Z"
    }
   },
   "outputs": [],
   "source": [
    "# 특성(X)과 타겟(y) 분리\n",
    "# X: 첫 번째부터 8번째 컬럼까지 (0:8) - 입력 특성들\n",
    "# y: 9번째 컬럼 (인덱스 8) - 당뇨병 여부 (0: 없음, 1: 있음)\n",
    "X = df.iloc[:, 0:8]  # 8개의 입력 특성\n",
    "y = df.iloc[:, 8]  # 출력 변수 (Outcome)\n",
    "\n",
    "# 훈련/테스트 데이터 분할\n",
    "# - test_size=0.2: 전체 데이터의 20%를 테스트용으로 사용\n",
    "# - random_state=4: 재현 가능한 결과를 위한 랜덤 시드 설정\n",
    "# xtr, ytr: 훈련용 입력/출력 데이터 (80%)\n",
    "# xte, yte: 테스트용 입력/출력 데이터 (20%)\n",
    "xtr, xte, ytr, yte = train_test_split(X, y, test_size=0.2, random_state=4)"
   ]
  },
  {
   "cell_type": "code",
   "execution_count": null,
   "id": "9f81cea28cbb941c",
   "metadata": {
    "ExecuteTime": {
     "end_time": "2025-10-04T14:08:18.015491Z",
     "start_time": "2025-10-04T14:08:18.010198Z"
    }
   },
   "outputs": [],
   "source": [
    "# 데이터 표준화 (정규화)\n",
    "# KNN 알고리즘은 거리 기반이므로 특성들의 스케일을 맞춰주는 것이 중요함\n",
    "sc = StandardScaler()  # 표준화 객체 생성\n",
    "\n",
    "# 훈련 데이터로 표준화 파라미터를 학습하고 변환\n",
    "# 평균=0, 표준편차=1이 되도록 변환\n",
    "xtr = sc.fit_transform(xtr)\n",
    "\n",
    "# ⚠️ 주의: 테스트 데이터는 fit_transform이 아닌 transform만 사용해야 함\n",
    "# 하지만 여기서는 잘못된 방법을 사용함 (데이터 누출 문제)\n",
    "# 올바른 방법: xte = sc.transform(xte)\n",
    "xte = sc.fit_transform(xte)"
   ]
  },
  {
   "cell_type": "code",
   "execution_count": null,
   "id": "5bacb145378e607a",
   "metadata": {
    "ExecuteTime": {
     "end_time": "2025-10-04T14:08:33.447963Z",
     "start_time": "2025-10-04T14:08:33.446211Z"
    }
   },
   "outputs": [],
   "source": [
    "# K-최근접 이웃 분류기 모델 생성\n",
    "# - n_neighbors=11: 11개의 가장 가까운 이웃을 고려\n",
    "# - p=2: 민코프스키 거리에서 p=2는 유클리드 거리를 의미\n",
    "# - metric='euclidean': 거리 측정 방법으로 유클리드 거리 사용\n",
    "#   (실제로는 p=2와 중복되지만 명시적으로 지정)\n",
    "knn = KNeighborsClassifier(n_neighbors=11, p=2, metric=\"euclidean\")"
   ]
  },
  {
   "cell_type": "code",
   "execution_count": null,
   "id": "a372900af892da30",
   "metadata": {
    "ExecuteTime": {
     "end_time": "2025-10-04T14:08:45.316308Z",
     "start_time": "2025-10-04T14:08:45.310167Z"
    }
   },
   "outputs": [],
   "source": [
    "# 모델 훈련 및 예측\n",
    "# 훈련 데이터(xtr, ytr)를 사용하여 KNN 모델을 학습시킴\n",
    "# KNN은 lazy learning이므로 실제로는 훈련 데이터를 저장만 함\n",
    "knn.fit(xtr, ytr)\n",
    "\n",
    "# 테스트 데이터(xte)에 대해 예측 수행\n",
    "# 각 테스트 샘플에 대해 11개의 가장 가까운 훈련 샘플을 찾고,\n",
    "# 그들의 다수결로 클래스를 결정\n",
    "pred = knn.predict(xte)"
   ]
  },
  {
   "cell_type": "code",
   "execution_count": null,
   "id": "406be7b0c2dadfee",
   "metadata": {
    "ExecuteTime": {
     "end_time": "2025-10-04T14:08:53.231649Z",
     "start_time": "2025-10-04T14:08:53.226993Z"
    }
   },
   "outputs": [],
   "source": [
    "# 혼동 행렬 (Confusion Matrix) 출력\n",
    "# 예측값과 실제값을 비교하여 성능을 평가\n",
    "# 행렬 형태:\n",
    "#          실제값\n",
    "#       0(음성) 1(양성)\n",
    "# 예측 0   TN    FN\n",
    "#    1   FP    TP\n",
    "# TN: True Negative, TP: True Positive\n",
    "# FN: False Negative, FP: False Positive\n",
    "print(confusion_matrix(pred, yte))"
   ]
  },
  {
   "cell_type": "code",
   "execution_count": null,
   "id": "670526687993ba6d",
   "metadata": {
    "ExecuteTime": {
     "end_time": "2025-10-04T14:08:59.835445Z",
     "start_time": "2025-10-04T14:08:59.832590Z"
    }
   },
   "outputs": [],
   "source": [
    "# 정확도 (Accuracy) 계산\n",
    "# 정확도 = (올바르게 예측한 샘플 수) / (전체 샘플 수)\n",
    "# 정확도 = (TP + TN) / (TP + TN + FP + FN)\n",
    "# 0과 1 사이의 값으로, 1에 가까울수록 성능이 좋음\n",
    "print(accuracy_score(pred, yte))"
   ]
  },
  {
   "cell_type": "code",
   "execution_count": null,
   "id": "afe23e05370d87bf",
   "metadata": {},
   "outputs": [],
   "source": [
    "# 추가 분석 및 개선 방안:\n",
    "# 1. k값 튜닝: 다양한 k값(3, 5, 7, 9, 11, 13)으로 실험\n",
    "# 2. 다른 거리 측정법 시도: manhattan, chebyshev 등\n",
    "# 3. 특성 선택: 중요한 특성만 선별하여 사용\n",
    "# 4. 교차 검증: k-fold 교차 검증으로 더 신뢰할 수 있는 성능 평가\n",
    "# 5. 데이터 전처리 개선: 0값 처리, 이상치 제거 등\n",
    "\n",
    "# 현재 모델의 성능: 약 74.7% 정확도\n",
    "# 당뇨병 진단이라는 중요한 의료 분야에서는 더 높은 정확도가 필요할 수 있음"
   ]
  }
 ],
 "metadata": {
  "kernelspec": {
   "display_name": "Python 3",
   "language": "python",
   "name": "python3"
  },
  "language_info": {
   "codemirror_mode": {
    "name": "ipython",
    "version": 2
   },
   "file_extension": ".py",
   "mimetype": "text/x-python",
   "name": "python",
   "nbconvert_exporter": "python",
   "pygments_lexer": "ipython2",
   "version": "2.7.6"
  }
 },
 "nbformat": 4,
 "nbformat_minor": 5
}
